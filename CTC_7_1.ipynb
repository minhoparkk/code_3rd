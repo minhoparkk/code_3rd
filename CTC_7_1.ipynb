{
  "nbformat": 4,
  "nbformat_minor": 0,
  "metadata": {
    "colab": {
      "provenance": [],
      "authorship_tag": "ABX9TyPJe/r8XZRV2L0c1BtoKDyD",
      "include_colab_link": true
    },
    "kernelspec": {
      "name": "python3",
      "display_name": "Python 3"
    },
    "language_info": {
      "name": "python"
    }
  },
  "cells": [
    {
      "cell_type": "markdown",
      "metadata": {
        "id": "view-in-github",
        "colab_type": "text"
      },
      "source": [
        "<a href=\"https://colab.research.google.com/github/minhoparkk/code_3rd/blob/main/CTC_7_1.ipynb\" target=\"_parent\"><img src=\"https://colab.research.google.com/assets/colab-badge.svg\" alt=\"Open In Colab\"/></a>"
      ]
    },
    {
      "cell_type": "markdown",
      "source": [
        "1.사용자로부터 2개의 값(x,y,z)을 입력받아서 각각 1씩 증가되고, 출력되는 코드작성"
      ],
      "metadata": {
        "id": "E8zucdiEG_fV"
      }
    },
    {
      "cell_type": "code",
      "source": [
        "x = int(input(\"x의 값을 입력시키시오\"))                           # 사용자로부터 x값을 정수형으로 입력 받습니다.\n",
        "y = int(input(\"y의 값을 입력시키시오\"))                           # 사용자로부터 y값을 정수형으로 입력 받습니다.\n",
        "z = int(input(\"z의 값을 입력시키시오\"))                           # 사용자로부터 z값을 정수형으로 입력 받습니다.\n",
        "x = x + 1                                                         # x값에 1을 더해줍니다.\n",
        "y = y + 1                                                         # y값에 1을 더해줍니다.\n",
        "z = z + 1                                                         # z값에 1을 더해줍니다.\n",
        "print(f'의 값은 {x}이며, y의 값은 {y}이고, {z}의 값은 {z}이다.')  # 각 변수에 1을 더한 후의 값을 출력합니다."
      ],
      "metadata": {
        "colab": {
          "base_uri": "https://localhost:8080/"
        },
        "id": "nPoPhq0ZHe1V",
        "outputId": "45b3805b-bfa3-431d-e31c-3fb7aa8509f2"
      },
      "execution_count": 1,
      "outputs": [
        {
          "output_type": "stream",
          "name": "stdout",
          "text": [
            "x의 값을 입력시키시오1\n",
            "y의 값을 입력시키시오2\n",
            "z의 값을 입력시키시오3\n",
            "의 값은 2이며, y의 값은 3이고, 4의 값은 4이다.\n"
          ]
        }
      ]
    },
    {
      "cell_type": "markdown",
      "source": [
        "2. 알바생의 시급과 시간을 계산하여 월급을 출력하는 코드"
      ],
      "metadata": {
        "id": "S8_ed82IJMWw"
      }
    },
    {
      "cell_type": "code",
      "source": [
        "hours_worked = int(input(\"일한 시간을 입력하시오.\"))                                                 # 사용자로부터 일한 시간을 정수형으로 입력 받습니다.\n",
        "pay_rate = int(input(\"시급을 입력하시오(23기준 9620원):\"))                                           # 사용자로부터 시급을 정수형으로 입력 받습니다.\n",
        "monthly_pay = hours_worked * pay_rate                                                                # 월급여를 계산합니다. 일한 시간과 시급을 곱합니다.\n",
        "print(f'일한시간은 {hours_worked}이고, 시급은 {pay_rate}원이며, 월급여는 {monthly_pay}원 입니다.')   # 일한 시간, 시급, 그리고 계산된 월급여를 출력합니다."
      ],
      "metadata": {
        "colab": {
          "base_uri": "https://localhost:8080/"
        },
        "id": "DHkpQSIMJe2Z",
        "outputId": "94b1921e-86aa-4e53-b701-21992becc9eb"
      },
      "execution_count": null,
      "outputs": [
        {
          "output_type": "stream",
          "name": "stdout",
          "text": [
            "일한 시간을 입력하시오.8\n",
            "시급을 입력하시오(23기준 9620원):9620\n",
            "일한시간은 8이고, 시급은 9620원이며, 월급여는 76960원 입니다.\n"
          ]
        }
      ]
    },
    {
      "cell_type": "markdown",
      "source": [
        "3. 한율계산하는 코드작성\n",
        " - 원의 변수는 won\n",
        " - 달러의 변수는 usd\n",
        " - 환전의 변수는 exchange"
      ],
      "metadata": {
        "id": "QTotsNEYLm1S"
      }
    },
    {
      "cell_type": "code",
      "source": [
        "won = int(input(\"환전할 금액을 입력(kor): \"))\n",
        "usd = int(input(\"현재 달러의 환율 입력(231031: 1372): \"))\n",
        "exchange = won / usd\n",
        "print(f'환전할 금액은 {won}이며, 달러 금액은 {usd}이고, 환전금액은 {exchange}입니다.')"
      ],
      "metadata": {
        "colab": {
          "base_uri": "https://localhost:8080/"
        },
        "id": "3C6Xk6RTL-Um",
        "outputId": "764d1608-1354-4319-bf79-0e38528c7675"
      },
      "execution_count": null,
      "outputs": [
        {
          "output_type": "stream",
          "name": "stdout",
          "text": [
            "환전할 금액을 입력(kor): 5000\n",
            "현재 달러의 환율 입력(231031: 1372): 1372\n",
            "환전할 금액은 5000이며, 달러 금액은 1372이고, 환전금액은 3.6443148688046647입니다.\n"
          ]
        }
      ]
    },
    {
      "cell_type": "markdown",
      "source": [
        "4. 화씨(fahrenheit)를 섭시(celcius)로 변환하는 코드작성"
      ],
      "metadata": {
        "id": "nxOrIl5YN_u7"
      }
    },
    {
      "cell_type": "code",
      "source": [
        "fahrenheit = int(input(\"화씨온도를 입력하시오.: \"))\n",
        "celcius = (fahrenheit - 32) // 1.8\n",
        "print(f'화씨온도는 {fahrenheit}도, 섭씨 {celcius}도 입니다.')"
      ],
      "metadata": {
        "colab": {
          "base_uri": "https://localhost:8080/"
        },
        "id": "yBPtR0adObEt",
        "outputId": "394eeebd-a146-49fe-b44a-2ed5d3eae8c6"
      },
      "execution_count": null,
      "outputs": [
        {
          "output_type": "stream",
          "name": "stdout",
          "text": [
            "화씨온도를 입력하시오.: 100\n",
            "화씨온도는 100도, 섭씨 37.0도 입니다.\n"
          ]
        }
      ]
    },
    {
      "cell_type": "code",
      "source": [
        "celcius = float(input(\"섭씨온도를 입력하시오.: \"))\n",
        "fahrenheit = (celcius * 1.8) + 32\n",
        "print(f'섭씨온도는 {celcius}도는, 화씨 {fahrenheit}도 입니다.')\n"
      ],
      "metadata": {
        "colab": {
          "base_uri": "https://localhost:8080/"
        },
        "id": "arsjhEH5PuME",
        "outputId": "24449fa5-288b-4042-8bb3-4618839a7c30"
      },
      "execution_count": null,
      "outputs": [
        {
          "output_type": "stream",
          "name": "stdout",
          "text": [
            "섭씨온도를 입력하시오.: 37.77777777777778\n",
            "섭씨온도는 37.77777777777778도는, 화씨 100.0도 입니다.\n"
          ]
        }
      ]
    },
    {
      "cell_type": "markdown",
      "source": [
        "사용자로부터 2개의 정수를 받아서 합계를 출력"
      ],
      "metadata": {
        "id": "gPKw8IEvU5pc"
      }
    },
    {
      "cell_type": "code",
      "source": [
        "x = int(input(\"x의 값을 입력시키시오.: \"))\n",
        "y = int(input(\"y의 값을 입력시키시오.: \"))\n",
        "sum = x + y\n",
        "print(f'합계는 {sum} 입니다.')\n"
      ],
      "metadata": {
        "colab": {
          "base_uri": "https://localhost:8080/"
        },
        "id": "nfvn61wHVCNr",
        "outputId": "11309e8e-f761-4673-a33e-baaa10bdc8b1"
      },
      "execution_count": null,
      "outputs": [
        {
          "output_type": "stream",
          "name": "stdout",
          "text": [
            "x의 값을 입력시키시오.: 2\n",
            "y의 값을 입력시키시오.: 3\n",
            "합계는 5 입니다.\n"
          ]
        }
      ]
    },
    {
      "cell_type": "markdown",
      "source": [
        "부가세 계산"
      ],
      "metadata": {
        "id": "FF2GyOyTXcjH"
      }
    },
    {
      "cell_type": "code",
      "source": [
        "price = int(input(\"상품의 가격을 입력하시오.: \"))\n",
        "vat = (price * 0.1)\n",
        "print(f'부가세는 {vat} 입니다.')"
      ],
      "metadata": {
        "colab": {
          "base_uri": "https://localhost:8080/"
        },
        "id": "XY33Ov43XgQM",
        "outputId": "7a46f029-e372-4f94-ffcc-67ab7cfdc067"
      },
      "execution_count": null,
      "outputs": [
        {
          "output_type": "stream",
          "name": "stdout",
          "text": [
            "상품의 가격을 입력하시오.: 4000\n",
            "부가세는 400.0 입니다.\n"
          ]
        }
      ]
    }
  ]
}