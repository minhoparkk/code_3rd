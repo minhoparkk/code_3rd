{
  "nbformat": 4,
  "nbformat_minor": 0,
  "metadata": {
    "colab": {
      "provenance": [],
      "authorship_tag": "ABX9TyMSkUvoI+oB0r+Qi4k6GfAR",
      "include_colab_link": true
    },
    "kernelspec": {
      "name": "python3",
      "display_name": "Python 3"
    },
    "language_info": {
      "name": "python"
    }
  },
  "cells": [
    {
      "cell_type": "markdown",
      "metadata": {
        "id": "view-in-github",
        "colab_type": "text"
      },
      "source": [
        "<a href=\"https://colab.research.google.com/github/minhoparkk/code_3rd/blob/main/CTBA_9.ipynb\" target=\"_parent\"><img src=\"https://colab.research.google.com/assets/colab-badge.svg\" alt=\"Open In Colab\"/></a>"
      ]
    },
    {
      "cell_type": "markdown",
      "source": [
        "1.두가지 이상의 선택, 다방향 선택구조 코딩\n",
        " - 배송처리 3가지로 작성\n",
        " - 변수: price, 가격 10만원이상 0원, 2만원이상 3000원, 그외 5천원"
      ],
      "metadata": {
        "id": "cexFW9LUMjO1"
      }
    },
    {
      "cell_type": "code",
      "source": [
        "print(\"배송료를 계산합니다.\")\n",
        "print(\"#\" * 30)\n",
        "price = int(input(\"구입금액을 입력하시오.: \"))\n",
        "if price >= 100000:\n",
        "  shpping_cost = 0\n",
        "else:\n",
        "  if price >= 20000:\n",
        "    shpping_cost = 3000\n",
        "  else:\n",
        "      shpping_cost = 5000\n",
        "print(f'배송료는 {shpping_cost}원 입니다.')"
      ],
      "metadata": {
        "colab": {
          "base_uri": "https://localhost:8080/"
        },
        "id": "vZt1EMWHNAw0",
        "outputId": "32e5972a-4f37-42d5-9ba9-edbd3fbdecb9"
      },
      "execution_count": 24,
      "outputs": [
        {
          "output_type": "stream",
          "name": "stdout",
          "text": [
            "배송료를 계산합니다.\n",
            "##############################\n",
            "구입금액을 입력하시오.: 19000\n",
            "배송료는 5000원 입니다.\n"
          ]
        }
      ]
    },
    {
      "cell_type": "markdown",
      "source": [
        "2. 환영합니다. 5번 출력, 10번 출력, 30번 출력"
      ],
      "metadata": {
        "id": "X4EPZmkwOVTK"
      }
    },
    {
      "cell_type": "code",
      "source": [
        " print(\"환영합니다.\")\n",
        " print(\"환영합니다.\")\n",
        " print(\"환영합니다.\")\n",
        " print(\"환영합니다.\")\n",
        " print(\"환영합니다.\")"
      ],
      "metadata": {
        "colab": {
          "base_uri": "https://localhost:8080/"
        },
        "id": "m74yEX5TOcp2",
        "outputId": "29759b28-3ebc-44dd-d30a-7e1b8613f795"
      },
      "execution_count": 5,
      "outputs": [
        {
          "output_type": "stream",
          "name": "stdout",
          "text": [
            "환영합니다.\n",
            "환영합니다.\n",
            "환영합니다.\n",
            "환영합니다.\n",
            "환영합니다.\n"
          ]
        }
      ]
    },
    {
      "cell_type": "code",
      "source": [
        "print(\"환영합니다\\n\"*5)"
      ],
      "metadata": {
        "colab": {
          "base_uri": "https://localhost:8080/"
        },
        "id": "nnxlLYj5O2yT",
        "outputId": "1cc8b684-840a-42bf-8591-c8e40b7559a8"
      },
      "execution_count": 23,
      "outputs": [
        {
          "output_type": "stream",
          "name": "stdout",
          "text": [
            "환영합니다\n",
            "환영합니다\n",
            "환영합니다\n",
            "환영합니다\n",
            "환영합니다\n",
            "\n"
          ]
        }
      ]
    },
    {
      "cell_type": "code",
      "source": [
        "count = 1\n",
        "while count <= 5:\n",
        "  print(\"(\", count, \")\", \"환영합니다.\")\n",
        "  print(F'({count})환영합니다.')\n",
        "  count = count + 1\n",
        "  #count += 1"
      ],
      "metadata": {
        "colab": {
          "base_uri": "https://localhost:8080/"
        },
        "id": "c7Nba_QlSE7m",
        "outputId": "5b0c30a5-5662-4be7-9062-c97cade98384"
      },
      "execution_count": 33,
      "outputs": [
        {
          "output_type": "stream",
          "name": "stdout",
          "text": [
            "( 1 ) 환영합니다.\n",
            "(1)환영합니다.\n",
            "( 2 ) 환영합니다.\n",
            "(2)환영합니다.\n",
            "( 3 ) 환영합니다.\n",
            "(3)환영합니다.\n",
            "( 4 ) 환영합니다.\n",
            "(4)환영합니다.\n",
            "( 5 ) 환영합니다.\n",
            "(5)환영합니다.\n"
          ]
        }
      ]
    },
    {
      "cell_type": "markdown",
      "source": [
        "3.0부터 9까지 출력하는 코드 작성\n",
        " - 변수: x"
      ],
      "metadata": {
        "id": "_8Vi55DhUu_o"
      }
    },
    {
      "cell_type": "code",
      "source": [
        "x = 0\n",
        "while x < 10:\n",
        "  print(x, end=' ')\n",
        "  x += 1"
      ],
      "metadata": {
        "colab": {
          "base_uri": "https://localhost:8080/"
        },
        "id": "nsbrP0o7U16d",
        "outputId": "b67631fd-7abc-4fba-91bb-aee9c54006ff"
      },
      "execution_count": 39,
      "outputs": [
        {
          "output_type": "stream",
          "name": "stdout",
          "text": [
            "0 1 2 3 4 5 6 7 8 9 "
          ]
        }
      ]
    },
    {
      "cell_type": "markdown",
      "source": [
        "4. 1부터 10까지 정수의 합을 계산하여 출력하는 코드"
      ],
      "metadata": {
        "id": "8Xe55HVjYYqu"
      }
    },
    {
      "cell_type": "code",
      "source": [
        "x = 1\n",
        "total = 0\n",
        "while x <= 10:\n",
        "  total = total + x\n",
        "  x += 1\n",
        "print(total)"
      ],
      "metadata": {
        "colab": {
          "base_uri": "https://localhost:8080/"
        },
        "id": "pjOuDNcAYigd",
        "outputId": "51525d36-c70d-4894-9e05-c07759921dbf"
      },
      "execution_count": 40,
      "outputs": [
        {
          "output_type": "stream",
          "name": "stdout",
          "text": [
            "55\n"
          ]
        }
      ]
    },
    {
      "cell_type": "code",
      "source": [
        "x = 1\n",
        "while x <= 10"
      ],
      "metadata": {
        "id": "QNzMk99yY_iF"
      },
      "execution_count": null,
      "outputs": []
    },
    {
      "cell_type": "markdown",
      "source": [
        "5. 3-6-9 게임 (3의 배수 판단): 3의 배수를 3으로 나누면  나머지가 0이 되므로\n",
        "(i mod 3)의 값이 0이면 박수를 출력, 아니면 숫자를 출력해주는 코드 작성"
      ],
      "metadata": {
        "id": "pDQw6M46Vnl1"
      }
    },
    {
      "cell_type": "code",
      "source": [
        "i = 1                        # 변수 i는 0으로 선언\n",
        "while i <= 30:               # 반복문 while 사용해서 i가 30보다 작거나 같을때\n",
        "  if i % 3 == 0:             # 만약 i값을 3으로 나눈 나머지가 0이면\n",
        "    print(\"박수\", end=' ')   # 박수를 출력하고  공백을 하나 만듦\n",
        "  else:                      # 위의 것이 아니면\n",
        "    print(i, end=' ')        # i값만 출력하고 공백 하나 만듦\n",
        "  i += 1                     # 변수 i값에 i와 1을 더해서 다시 변수 i에 선언"
      ],
      "metadata": {
        "colab": {
          "base_uri": "https://localhost:8080/"
        },
        "id": "f2KXspeKWCaQ",
        "outputId": "0aa3499b-ed76-4fc4-d62f-4ee23488c7ff"
      },
      "execution_count": 38,
      "outputs": [
        {
          "output_type": "stream",
          "name": "stdout",
          "text": [
            "1 2 박수 4 5 박수 7 8 박수 10 11 박수 13 14 박수 16 17 박수 19 20 박수 22 23 박수 25 26 박수 28 29 박수 "
          ]
        }
      ]
    },
    {
      "cell_type": "code",
      "source": [
        "for num in range(1, 11):                        # 1부터 11까지의 숫자를 반복\n",
        "  if num % 3 == 0:                              # 숫자(num)를 3으로 나눈 나머지가 0인 경우\n",
        "    print(\"박수\", end=' ')                      # 박수를 출력하고 공백 만듦\n",
        "  else:                                         # 그게 아니면\n",
        "    print(num, end=' ')                         # 숫자만 출력하고 공백 만듦"
      ],
      "metadata": {
        "colab": {
          "base_uri": "https://localhost:8080/"
        },
        "id": "Ae3bWVf1ZLBd",
        "outputId": "e8ae81ea-1853-4b2a-d453-77d705d03345"
      },
      "execution_count": 41,
      "outputs": [
        {
          "output_type": "stream",
          "name": "stdout",
          "text": [
            "1 2 박수 4 5 박수 7 8 박수 10 "
          ]
        }
      ]
    },
    {
      "cell_type": "markdown",
      "source": [
        "6. 팩토리얼 계산하는 코드 작성"
      ],
      "metadata": {
        "id": "IkZNSHZuactB"
      }
    },
    {
      "cell_type": "code",
      "source": [
        "i = 4\n",
        "factorial = 1\n",
        "while i >= 1:\n",
        "  factorial = factorial * i\n",
        "  i -= 1\n",
        "print(factorial)"
      ],
      "metadata": {
        "colab": {
          "base_uri": "https://localhost:8080/"
        },
        "id": "CYG6zf3NaiKd",
        "outputId": "1e51905c-ba5c-4a47-ef20-5088af1cf71c"
      },
      "execution_count": 53,
      "outputs": [
        {
          "output_type": "stream",
          "name": "stdout",
          "text": [
            "24\n"
          ]
        }
      ]
    },
    {
      "cell_type": "code",
      "source": [
        "num = int(input(\"팩토리얼 값입력: \"))\n",
        "factorial = 1\n",
        "while num>= 1:\n",
        "  factorial = factorial * num\n",
        "  num -= 1\n",
        "print(\"계산된 팩토리얼 값은 :\", factorial)"
      ],
      "metadata": {
        "colab": {
          "base_uri": "https://localhost:8080/"
        },
        "id": "U7q0dOEDbg6F",
        "outputId": "c813a11d-07d8-4510-b148-033fb920fc3d"
      },
      "execution_count": 45,
      "outputs": [
        {
          "output_type": "stream",
          "name": "stdout",
          "text": [
            "팩토리얼 값입력: 5\n",
            "계산된 팩토리얼 값은 : 120\n"
          ]
        }
      ]
    }
  ]
}