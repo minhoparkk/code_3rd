{
  "nbformat": 4,
  "nbformat_minor": 0,
  "metadata": {
    "colab": {
      "provenance": [],
      "include_colab_link": true
    },
    "kernelspec": {
      "name": "python3",
      "display_name": "Python 3"
    },
    "language_info": {
      "name": "python"
    }
  },
  "cells": [
    {
      "cell_type": "markdown",
      "metadata": {
        "id": "view-in-github",
        "colab_type": "text"
      },
      "source": [
        "<a href=\"https://colab.research.google.com/github/minhoparkk/code_3rd/blob/main/CTBA_9.ipynb\" target=\"_parent\"><img src=\"https://colab.research.google.com/assets/colab-badge.svg\" alt=\"Open In Colab\"/></a>"
      ]
    },
    {
      "cell_type": "markdown",
      "source": [
        "1.두가지 이상의 선택, 다방향 선택구조 코딩\n",
        " - 배송처리 3가지로 작성\n",
        " - 변수: price, 가격 10만원이상 0원, 2만원이상 3000원, 그외 5천원"
      ],
      "metadata": {
        "id": "cexFW9LUMjO1"
      }
    },
    {
      "cell_type": "code",
      "source": [
        "print(\"배송료를 계산합니다.\")                   # 배송료를 계산하는 프로그램임을 출력합니다.\n",
        "print(\"#\" * 30)                                 # 구분선을 출력하기 위해 '#' 문자를 30번 반복해서 출력합니다.\n",
        "\n",
        "price = int(input(\"구입금액을 입력하시오.: \"))  # 사용자로부터 구입금액을 입력받습니다.\n",
        "\n",
        "if price >= 100000:                             # 구입금액이 10만원 이상인 경우\n",
        "    shpping_cost = 0                            # 배송료는 0원입니다.\n",
        "else:\n",
        "    if price >= 20000:                          # 구입금액이 2만원 이상인 경우\n",
        "        shpping_cost = 3000                     # 배송료는 3000원입니다.\n",
        "    else:\n",
        "        shpping_cost = 5000                     # 그 외의 경우 배송료는 5000원입니다.\n",
        "\n",
        "print(f'배송료는 {shpping_cost}원 입니다.')     # 계산된 배송료를 출력합니다."
      ],
      "metadata": {
        "colab": {
          "base_uri": "https://localhost:8080/"
        },
        "id": "vZt1EMWHNAw0",
        "outputId": "ebc6e5b4-dd32-4e8d-db0e-5ee22d380069"
      },
      "execution_count": null,
      "outputs": [
        {
          "output_type": "stream",
          "name": "stdout",
          "text": [
            "배송료를 계산합니다.\n",
            "##############################\n",
            "구입금액을 입력하시오.: 19000\n",
            "배송료는 5000원 입니다.\n"
          ]
        }
      ]
    },
    {
      "cell_type": "markdown",
      "source": [
        "2. 환영합니다. 5번 출력, 10번 출력, 30번 출력"
      ],
      "metadata": {
        "id": "X4EPZmkwOVTK"
      }
    },
    {
      "cell_type": "code",
      "source": [
        " print(\"환영합니다.\")          # 첫 번째 \"환영합니다.\" 출력          # \"환영합니다.\"라는 문구를 5번 출력하는 코드\n",
        " print(\"환영합니다.\")          # 두 번째 \"환영합니다.\" 출력\n",
        " print(\"환영합니다.\")          # 세 번째 \"환영합니다.\" 출력\n",
        " print(\"환영합니다.\")          # 네 번째 \"환영합니다.\" 출력\n",
        " print(\"환영합니다.\")          # 다섯 번째 \"환영합니다.\" 출력"
      ],
      "metadata": {
        "colab": {
          "base_uri": "https://localhost:8080/"
        },
        "id": "m74yEX5TOcp2",
        "outputId": "71750b0b-67bd-48d3-952f-50bacf8f97af"
      },
      "execution_count": 1,
      "outputs": [
        {
          "output_type": "stream",
          "name": "stdout",
          "text": [
            "환영합니다.\n",
            "환영합니다.\n",
            "환영합니다.\n",
            "환영합니다.\n",
            "환영합니다.\n"
          ]
        }
      ]
    },
    {
      "cell_type": "code",
      "source": [
        "print(\"환영합니다\\n\"*5)       # \"환영합니다\" 라는 문자열을 5번 출력하는 코드입니다."
      ],
      "metadata": {
        "colab": {
          "base_uri": "https://localhost:8080/"
        },
        "id": "nnxlLYj5O2yT",
        "outputId": "ca257d71-9400-454f-b80f-1377c7e71559"
      },
      "execution_count": 2,
      "outputs": [
        {
          "output_type": "stream",
          "name": "stdout",
          "text": [
            "환영합니다\n",
            "환영합니다\n",
            "환영합니다\n",
            "환영합니다\n",
            "환영합니다\n",
            "\n"
          ]
        }
      ]
    },
    {
      "cell_type": "code",
      "source": [
        "count = 1                                          # count 변수를 1로 초기화합니다.\n",
        "while count <= 5:                                  # count 값이 5 이하일 동안 반복합니다.\n",
        "  print(\"(\", count, \")\", \"환영합니다.\")            # count 값을 괄호 안에 넣어 \"환영합니다.\"라는 메시지와 함께 출력합니다.\n",
        "  print(F'({count})환영합니다.')                   # f-string을 이용해서 count 값을 괄호 안에 넣어 \"환영합니다.\"라는 메시지와 함께 출력합니다.\n",
        "  count = count + 1                                # count 값을 1 증가시킵니다.\n",
        "  #count += 1                                      # 위 코드는 count += 1로 간단하게 표현할 수 있습니다. 이 부분은 실행되지 않는 주석 부분입니다."
      ],
      "metadata": {
        "colab": {
          "base_uri": "https://localhost:8080/"
        },
        "id": "c7Nba_QlSE7m",
        "outputId": "e9a0a721-4e26-4d36-dbc7-dc85a28564ec"
      },
      "execution_count": 3,
      "outputs": [
        {
          "output_type": "stream",
          "name": "stdout",
          "text": [
            "( 1 ) 환영합니다.\n",
            "(1)환영합니다.\n",
            "( 2 ) 환영합니다.\n",
            "(2)환영합니다.\n",
            "( 3 ) 환영합니다.\n",
            "(3)환영합니다.\n",
            "( 4 ) 환영합니다.\n",
            "(4)환영합니다.\n",
            "( 5 ) 환영합니다.\n",
            "(5)환영합니다.\n"
          ]
        }
      ]
    },
    {
      "cell_type": "markdown",
      "source": [
        "3.0부터 9까지 출력하는 코드 작성\n",
        " - 변수: x"
      ],
      "metadata": {
        "id": "_8Vi55DhUu_o"
      }
    },
    {
      "cell_type": "code",
      "source": [
        "x = 0                      # x 변수를 0으로 초기화합니다.\n",
        "while x < 10:              # x 값이 10 미만일 동안 반복합니다.\n",
        "  print(x, end=' ')        # x 값을 출력하고, 뒤에 공백(' ')을 추가합니다. end=' '는 print 함수가 줄바꿈 대신 공백을 출력하도록 합니다.\n",
        "  x += 1                   # x 값을 1 증가시킵니다."
      ],
      "metadata": {
        "colab": {
          "base_uri": "https://localhost:8080/"
        },
        "id": "nsbrP0o7U16d",
        "outputId": "9d5e23bf-fcf9-468d-bff2-115f5d1afcb7"
      },
      "execution_count": 4,
      "outputs": [
        {
          "output_type": "stream",
          "name": "stdout",
          "text": [
            "0 1 2 3 4 5 6 7 8 9 "
          ]
        }
      ]
    },
    {
      "cell_type": "markdown",
      "source": [
        "4. 1부터 10까지 정수의 합을 계산하여 출력하는 코드"
      ],
      "metadata": {
        "id": "8Xe55HVjYYqu"
      }
    },
    {
      "cell_type": "code",
      "source": [
        "x = 1                         # x 변수를 1로 초기화합니다.\n",
        "total = 0                     # total 변수를 0으로 초기화합니다. 이 변수는 누적합을 저장할 용도입니다.\n",
        "while x <= 10:                # x 값이 10 이하일 동안 반복합니다.\n",
        "  total = total + x           # 현재 x 값을 total에 누적합니다.\n",
        "  x += 1                      # x 값을 1 증가시킵니다.\n",
        "print(total)                  # 누적합인 total 값을 출력합니다."
      ],
      "metadata": {
        "colab": {
          "base_uri": "https://localhost:8080/"
        },
        "id": "pjOuDNcAYigd",
        "outputId": "0e3bbdf6-5331-4c71-b8a7-9e9dc8abdd90"
      },
      "execution_count": 5,
      "outputs": [
        {
          "output_type": "stream",
          "name": "stdout",
          "text": [
            "55\n"
          ]
        }
      ]
    },
    {
      "cell_type": "code",
      "source": [
        "x = 1                    # x 변수를 1로 초기화합니다.\n",
        "while x <= 10:           # x 값이 10 이하일 동안 반복합니다.\n",
        "  print(x)               # 현재 x 값을 출력합니다.\n",
        "  x += 1                 # x 값을 1 증가시킵니다."
      ],
      "metadata": {
        "id": "QNzMk99yY_iF",
        "outputId": "46d1cf66-9f4a-451c-d90c-90cff26cd7e3",
        "colab": {
          "base_uri": "https://localhost:8080/"
        }
      },
      "execution_count": 7,
      "outputs": [
        {
          "output_type": "stream",
          "name": "stdout",
          "text": [
            "1\n",
            "2\n",
            "3\n",
            "4\n",
            "5\n",
            "6\n",
            "7\n",
            "8\n",
            "9\n",
            "10\n"
          ]
        }
      ]
    },
    {
      "cell_type": "markdown",
      "source": [
        "5. 3-6-9 게임 (3의 배수 판단): 3의 배수를 3으로 나누면  나머지가 0이 되므로\n",
        "(i mod 3)의 값이 0이면 박수를 출력, 아니면 숫자를 출력해주는 코드 작성"
      ],
      "metadata": {
        "id": "pDQw6M46Vnl1"
      }
    },
    {
      "cell_type": "code",
      "source": [
        "i = 1                        # 변수 i는 0으로 선언\n",
        "while i <= 30:               # 반복문 while 사용해서 i가 30보다 작거나 같을때\n",
        "  if i % 3 == 0:             # 만약 i값을 3으로 나눈 나머지가 0이면\n",
        "    print(\"박수\", end=' ')   # 박수를 출력하고  공백을 하나 만듦\n",
        "  else:                      # 위의 것이 아니면\n",
        "    print(i, end=' ')        # i값만 출력하고 공백 하나 만듦\n",
        "  i += 1                     # 변수 i값에 i와 1을 더해서 다시 변수 i에 선언"
      ],
      "metadata": {
        "colab": {
          "base_uri": "https://localhost:8080/"
        },
        "id": "f2KXspeKWCaQ",
        "outputId": "0aa3499b-ed76-4fc4-d62f-4ee23488c7ff"
      },
      "execution_count": null,
      "outputs": [
        {
          "output_type": "stream",
          "name": "stdout",
          "text": [
            "1 2 박수 4 5 박수 7 8 박수 10 11 박수 13 14 박수 16 17 박수 19 20 박수 22 23 박수 25 26 박수 28 29 박수 "
          ]
        }
      ]
    },
    {
      "cell_type": "code",
      "source": [
        "for num in range(1, 11):                        # 1부터 11까지의 숫자를 반복\n",
        "  if num % 3 == 0:                              # 숫자(num)를 3으로 나눈 나머지가 0인 경우\n",
        "    print(\"박수\", end=' ')                      # 박수를 출력하고 공백 만듦\n",
        "  else:                                         # 그게 아니면\n",
        "    print(num, end=' ')                         # 숫자만 출력하고 공백 만듦"
      ],
      "metadata": {
        "colab": {
          "base_uri": "https://localhost:8080/"
        },
        "id": "Ae3bWVf1ZLBd",
        "outputId": "e8ae81ea-1853-4b2a-d453-77d705d03345"
      },
      "execution_count": null,
      "outputs": [
        {
          "output_type": "stream",
          "name": "stdout",
          "text": [
            "1 2 박수 4 5 박수 7 8 박수 10 "
          ]
        }
      ]
    },
    {
      "cell_type": "markdown",
      "source": [
        "6. 팩토리얼 계산하는 코드 작성"
      ],
      "metadata": {
        "id": "IkZNSHZuactB"
      }
    },
    {
      "cell_type": "code",
      "source": [
        "i = 4                         # i 변수를 4로 초기화합니다.\n",
        "factorial = 1                 # factorial 변수를 1로 초기화합니다. 이 변수는 팩토리얼 값을 저장할 용도입니다.\n",
        "while i >= 1:                 # i 값이 1 이상일 동안 반복합니다.\n",
        "  factorial = factorial * i   # 현재 i 값을 factorial에 곱하여 누적합니다.\n",
        "  i -= 1                      # i 값을 1 감소시킵니다.\n",
        "print(factorial)              # 팩토리얼 값인 factorial을 출력합니다."
      ],
      "metadata": {
        "colab": {
          "base_uri": "https://localhost:8080/"
        },
        "id": "CYG6zf3NaiKd",
        "outputId": "b8408949-474a-42da-a41e-956baf88cdb4"
      },
      "execution_count": 8,
      "outputs": [
        {
          "output_type": "stream",
          "name": "stdout",
          "text": [
            "24\n"
          ]
        }
      ]
    },
    {
      "cell_type": "code",
      "source": [
        "num = int(input(\"팩토리얼 값입력: \"))            # 사용자로부터 팩토리얼을 계산할 수를 입력 받습니다.\n",
        "factorial = 1                                    # factorial 변수를 1로 초기화합니다. 이 변수는 팩토리얼 값을 저장할 용도입니다.\n",
        "while num>= 1:                                   # num 값이 1 이상일 동안 반복합니다.\n",
        "  factorial = factorial * num                    # 현재 num 값을 factorial에 곱하여 누적합니다.\n",
        "  num -= 1                                       # num 값을 1 감소시킵니다.\n",
        "print(\"계산된 팩토리얼 값은 :\", factorial)       # 최종 계산된 팩토리얼 값을 출력합니다."
      ],
      "metadata": {
        "colab": {
          "base_uri": "https://localhost:8080/"
        },
        "id": "U7q0dOEDbg6F",
        "outputId": "ae1a7e3b-800b-495d-cc8c-4a7904d22ea0"
      },
      "execution_count": 9,
      "outputs": [
        {
          "output_type": "stream",
          "name": "stdout",
          "text": [
            "팩토리얼 값입력: 5\n",
            "계산된 팩토리얼 값은 : 120\n"
          ]
        }
      ]
    }
  ]
}