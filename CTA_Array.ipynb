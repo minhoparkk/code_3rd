{
  "nbformat": 4,
  "nbformat_minor": 0,
  "metadata": {
    "colab": {
      "provenance": [],
      "authorship_tag": "ABX9TyM7MiPEmX47SiFmOAQMFVgN",
      "include_colab_link": true
    },
    "kernelspec": {
      "name": "python3",
      "display_name": "Python 3"
    },
    "language_info": {
      "name": "python"
    }
  },
  "cells": [
    {
      "cell_type": "markdown",
      "metadata": {
        "id": "view-in-github",
        "colab_type": "text"
      },
      "source": [
        "<a href=\"https://colab.research.google.com/github/minhoparkk/code_3rd/blob/main/CTA_Array.ipynb\" target=\"_parent\"><img src=\"https://colab.research.google.com/assets/colab-badge.svg\" alt=\"Open In Colab\"/></a>"
      ]
    },
    {
      "cell_type": "markdown",
      "source": [
        "1. 배열의 선언\n",
        " - 일반 변수의 선언 : 변수명 = 변수의 값\n",
        " - 배열의 변수 선언 : 변수명 = [,,]"
      ],
      "metadata": {
        "id": "j_D--0kcMITu"
      }
    },
    {
      "cell_type": "code",
      "source": [
        "movie_list = [\"아바타\", \"타이타닉\", \"스타워즈\", \"쥬라기월드\", \"어벤져스\"]\n",
        "print(movie_list[0])\n",
        "print(movie_list[4])"
      ],
      "metadata": {
        "colab": {
          "base_uri": "https://localhost:8080/"
        },
        "id": "Cfju6SzaNUUR",
        "outputId": "3963265e-1fa1-43f3-9529-086ef726e231"
      },
      "execution_count": 1,
      "outputs": [
        {
          "output_type": "stream",
          "name": "stdout",
          "text": [
            "아바타\n"
          ]
        }
      ]
    },
    {
      "cell_type": "markdown",
      "source": [
        "2. 요일을 배열로 선언하라.\n",
        " - 변수명 : day_list\n",
        "  * 요일 : 월(mon), 화(Tues), 수(wed), 목(Thur), 금(Fri.), 토(sat.), 일(sun)"
      ],
      "metadata": {
        "id": "eeLGxbfzOdow"
      }
    },
    {
      "cell_type": "code",
      "source": [
        "day_list = [\"월(mon)\", \"화(Tues)\", \"수(wed)\", \"목(Thur)\", \"금(Fri)\", \"토(sat)\", \"일(sun)\"]\n",
        "print(day_list[0])\n",
        "print(day_list[1])\n",
        "print(day_list[2])\n",
        "print(day_list[3])\n",
        "print(day_list[4])\n",
        "print(day_list[5])\n",
        "print(day_list[6])"
      ],
      "metadata": {
        "colab": {
          "base_uri": "https://localhost:8080/"
        },
        "id": "U36e3e48PEUl",
        "outputId": "651802af-709b-440c-f73a-fa8ba1e56ae5"
      },
      "execution_count": 5,
      "outputs": [
        {
          "output_type": "stream",
          "name": "stdout",
          "text": [
            "월(mon)\n",
            "화(Tues)\n",
            "수(wed)\n",
            "목(Thur)\n",
            "금(Fri)\n",
            "토(sat)\n",
            "일(sun)\n"
          ]
        }
      ]
    }
  ]
}