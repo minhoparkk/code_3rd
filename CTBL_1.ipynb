{
  "nbformat": 4,
  "nbformat_minor": 0,
  "metadata": {
    "colab": {
      "provenance": [],
      "authorship_tag": "ABX9TyMA+pjrB0PYa7ZgWScxyuB0",
      "include_colab_link": true
    },
    "kernelspec": {
      "name": "python3",
      "display_name": "Python 3"
    },
    "language_info": {
      "name": "python"
    }
  },
  "cells": [
    {
      "cell_type": "markdown",
      "metadata": {
        "id": "view-in-github",
        "colab_type": "text"
      },
      "source": [
        "<a href=\"https://colab.research.google.com/github/minhoparkk/code_3rd/blob/main/CTBL_1.ipynb\" target=\"_parent\"><img src=\"https://colab.research.google.com/assets/colab-badge.svg\" alt=\"Open In Colab\"/></a>"
      ]
    },
    {
      "cell_type": "markdown",
      "source": [
        "1. 학생으로부터 성적을 입력받아 합격유무를 출력하는 코드작성\n",
        " - 사용변수: Grade\n",
        " - 사용수식: Grade >= 70:"
      ],
      "metadata": {
        "id": "3nWpXIxy04C0"
      }
    },
    {
      "cell_type": "code",
      "source": [
        "Grade = int(input(\"성적입력: \"));\n",
        "if Grade >= 70:\n",
        "  print(\"70점 이상으므로 합격\")\n",
        "else:\n",
        "  print(\"70점 이하는 불합격\")"
      ],
      "metadata": {
        "colab": {
          "base_uri": "https://localhost:8080/"
        },
        "id": "dhVp8SHT1P5i",
        "outputId": "697f7451-b683-43a7-9548-3f133d575f5e"
      },
      "execution_count": 1,
      "outputs": [
        {
          "output_type": "stream",
          "name": "stdout",
          "text": [
            "성적입력: 80\n",
            "70점 이상으므로 합격\n"
          ]
        }
      ]
    },
    {
      "cell_type": "markdown",
      "source": [
        "2. 쇼핑몰의 배송료를 계산하는 코드 작성\n",
        " - 변수명 : price, shipping_cost\n",
        " - 수식 : price >= 20000\n",
        " - shipping_cost"
      ],
      "metadata": {
        "id": "kFIniNmz3svr"
      }
    },
    {
      "cell_type": "code",
      "source": [
        "price = int(input(\"구입금액 입력: \"))\n",
        "if price >= 20000:\n",
        "  shipping_cost = 0\n",
        "  print(f'구입금액이 {price}원 이상입니다. ')\n",
        "else:\n",
        "  shipping_cost = 3000\n",
        "  print(\"구입금액이 2만원 이하입니다.\")\n",
        "print(f'회원님의 배송료는 {shipping_cost}입니다')"
      ],
      "metadata": {
        "colab": {
          "base_uri": "https://localhost:8080/"
        },
        "id": "rTz2alvP41aU",
        "outputId": "077254e2-94e2-4bc8-870b-72543d06236c"
      },
      "execution_count": 6,
      "outputs": [
        {
          "output_type": "stream",
          "name": "stdout",
          "text": [
            "구입금액 입력: 20000\n",
            "구입금액이 20000원 이상입니다. \n",
            "회원님의 배송료는 0입니다\n"
          ]
        }
      ]
    },
    {
      "cell_type": "markdown",
      "source": [
        "3. 근무시간에 따라 초과근무와 정상근무를 판별하는 코드작성\n",
        " - 변수 : work_hour\n",
        " - 수식 : >= , 기준시간: 72시간"
      ],
      "metadata": {
        "id": "iuPi6LaS7ZEZ"
      }
    },
    {
      "cell_type": "code",
      "source": [
        "work_hour = int(input(\"근무시간 입력: \"))\n",
        "if work_hour >= 72:\n",
        "  print(\"초과근무입니다.\")\n",
        "else:\n",
        "  print(\"정상근무하였습니다\")"
      ],
      "metadata": {
        "colab": {
          "base_uri": "https://localhost:8080/"
        },
        "id": "AGKJR6o28cq-",
        "outputId": "ef5ec6d3-b9fe-492b-ea74-612429b06288"
      },
      "execution_count": 14,
      "outputs": [
        {
          "output_type": "stream",
          "name": "stdout",
          "text": [
            "근무시간 입력: 62\n",
            "정상근무하였습니다\n"
          ]
        }
      ]
    },
    {
      "cell_type": "markdown",
      "source": [
        "4. 정수를 입력받아 짝수인지 홀수인지 판별하는 코드 작성\n",
        " - 변수: num\n",
        " - 수식: (num % 2) != 0:"
      ],
      "metadata": {
        "id": "3YPfCcSg-KTQ"
      }
    },
    {
      "cell_type": "code",
      "source": [
        "num = int(input(\"정수를 입력하시오: \"))\n",
        "if (num % 2) != 0:\n",
        "  print(\"홀수입니다.\")\n",
        "else:\n",
        "  print(\"짝수입니다.\")"
      ],
      "metadata": {
        "colab": {
          "base_uri": "https://localhost:8080/"
        },
        "id": "knAncse_-wC8",
        "outputId": "5a44f29f-33cd-4ff0-e2bd-cdbd23db319a"
      },
      "execution_count": 15,
      "outputs": [
        {
          "output_type": "stream",
          "name": "stdout",
          "text": [
            "정수를 입력하시오: 10\n",
            "짝수입니다.\n"
          ]
        }
      ]
    },
    {
      "cell_type": "markdown",
      "source": [
        "5. 사용자의 이름과 나이를 입력받고, 답변하는 코드 작성\n",
        " - 입력 : 성명 - name\n",
        " - 입력 : 나이 - age\n",
        " - 수식 : if age <= 20:\n",
        "\n",
        "최종 출력물\n",
        "- 이름을 입력하시오.: ***\n",
        "- 나이를 입력하시오.: **\n",
        "- (1) 프로그래밍을 배우는 최적의 나이입니다.\n",
        "- (2) 아직도 늦지 않았습니다. 도전정신"
      ],
      "metadata": {
        "id": "rzGGWdq2AlcL"
      }
    },
    {
      "cell_type": "code",
      "source": [
        "name = input(\"이름을 입력하시오.: \")\n",
        "age = int(input(\"나이를 입력하시오.: \"))\n",
        "if age <= 20:\n",
        " print(\"프로그래밍을 배우는 최적의 나이입니다.\")\n",
        "else:\n",
        "  print(\"아직도 늦지 않았습니다. 도전정신\")"
      ],
      "metadata": {
        "colab": {
          "base_uri": "https://localhost:8080/"
        },
        "id": "PE_Wrna5BYa7",
        "outputId": "b04add5a-3dfe-4d31-9a1f-64e8cc857d1c"
      },
      "execution_count": 20,
      "outputs": [
        {
          "output_type": "stream",
          "name": "stdout",
          "text": [
            "이름을 입력하시오.: 박민호\n",
            "나이를 입력하시오.: 20\n",
            "프로그래밍을 배우는 최적의 나이입니다.\n"
          ]
        }
      ]
    },
    {
      "cell_type": "code",
      "source": [
        "import random  # 랜덤 모듈을 가져옵니다.\n",
        "\n",
        "def generate_lotto_numbers():  # 로또 번호를 생성하는 함수를 정의합니다.\n",
        "    lotto_numbers = []  # 로또 번호를 담을 빈 리스트를 생성합니다.\n",
        "\n",
        "    while len(lotto_numbers) < 6:  # 로또 번호는 총 6개이므로, 리스트의 길이가 6보다 작은 동안 반복합니다.\n",
        "        num = random.randint(1, 45)  # 1부터 45 사이의 랜덤한 정수를 생성합니다.\n",
        "        if num not in lotto_numbers:  # 만약 생성한 번호가 이미 리스트에 있다면, 그 번호는 통과하고 다시 랜덤한 수를 생성합니다.\n",
        "            lotto_numbers.append(num)  # 생성한 번호가 리스트에 없다면, 그 번호를 리스트에 추가합니다.\n",
        "\n",
        "    return sorted(lotto_numbers)  # 6개의 번호를 생성한 후, 그 번호들을 정렬하여 반환합니다.\n",
        "\n",
        "print(generate_lotto_numbers())  # 로또 번호를 생성하는 함수를 호출하고, 그 결과를 출력합니다."
      ],
      "metadata": {
        "colab": {
          "base_uri": "https://localhost:8080/"
        },
        "id": "1aNtD4STFKKQ",
        "outputId": "e595b3c6-cae6-4486-e71d-646c17430301"
      },
      "execution_count": 21,
      "outputs": [
        {
          "output_type": "stream",
          "name": "stdout",
          "text": [
            "[1, 17, 23, 25, 27, 39]\n"
          ]
        }
      ]
    },
    {
      "cell_type": "code",
      "source": [
        "name = input(\"이름을 입력하시오.: \")  # 사용자로부터 이름을 입력받습니다.\n",
        "age = int(input(\"나이를 입력하시오.: \"))  # 사용자로부터 나이를 입력받습니다.\n",
        "\n",
        "if age <= 20:  # 나이가 20세 이하인 경우\n",
        "    print(f\"{name}님, 프로그래밍을 배우는 최적의 나이입니다.\")\n",
        "else:  # 나이가 20세 초과인 경우\n",
        "    print(f\"{name}님, 아직도 늦지 않았습니다. 도전정신을 가지고 시작해봅시다.\")"
      ],
      "metadata": {
        "colab": {
          "base_uri": "https://localhost:8080/"
        },
        "id": "CBucRuvdGXWZ",
        "outputId": "1a4c1d58-0003-4e8d-fcf1-c8fabeba2af7"
      },
      "execution_count": 24,
      "outputs": [
        {
          "output_type": "stream",
          "name": "stdout",
          "text": [
            "이름을 입력하시오.: 박민호\n",
            "나이를 입력하시오.: 20\n",
            "박민호님, 프로그래밍을 배우는 최적의 나이입니다.\n"
          ]
        }
      ]
    }
  ]
}