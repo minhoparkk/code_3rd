{
  "nbformat": 4,
  "nbformat_minor": 0,
  "metadata": {
    "colab": {
      "provenance": [],
      "authorship_tag": "ABX9TyP/p8KDWnwm/sKXKPizz7cm",
      "include_colab_link": true
    },
    "kernelspec": {
      "name": "python3",
      "display_name": "Python 3"
    },
    "language_info": {
      "name": "python"
    }
  },
  "cells": [
    {
      "cell_type": "markdown",
      "metadata": {
        "id": "view-in-github",
        "colab_type": "text"
      },
      "source": [
        "<a href=\"https://colab.research.google.com/github/minhoparkk/code_3rd/blob/main/Py231019.ipynb\" target=\"_parent\"><img src=\"https://colab.research.google.com/assets/colab-badge.svg\" alt=\"Open In Colab\"/></a>"
      ]
    },
    {
      "cell_type": "markdown",
      "source": [
        "1. TO-Do List를 작성하시오.\n",
        "  - 2023년 10월 19일\n",
        "  - (1) 09:20 도서관에서 책 빌리기\n",
        "  - (2) 11:10 컴퓨팅적사고와 기초코딩 수업\n",
        "  - (3) 13:00 점심식사\n",
        "  - (4) 14:00 교양수업\n",
        "  - (5) 16:00 파이썬 공부 및 레포트 작성\n",
        "  - (6) 17:40 저녁식사 및 집안일 돕기\n",
        "  - (7) 19:00 LOL하기\n"
      ],
      "metadata": {
        "id": "stxSn_RQuP29"
      }
    },
    {
      "cell_type": "code",
      "source": [
        "print(\"- 2023년 10월 19일\")\n",
        "print(\"- (1) 09:20 도서관에서 책 빌리기\")\n",
        "print(\"- (2) 11:10 컴퓨팅적 사고와 기초코딩 수업\")\n",
        "print(\"- (3) 13:00 점심식사\")\n",
        "print(\"- (4) 14:00 교양수업\")\n",
        "print(\"- (5) 16:00 파이썬 공부 및 레포트 작성\")\n",
        "print(\"- (6) 17:40 저녁식사 및 집안일 돕기\")\n",
        "print(\"- (7) 19:00 LOL하기\")\n"
      ],
      "metadata": {
        "colab": {
          "base_uri": "https://localhost:8080/"
        },
        "id": "ofa5cV5Kx07G",
        "outputId": "32c6a47d-3547-4665-d853-393cf6b8642c"
      },
      "execution_count": 6,
      "outputs": [
        {
          "output_type": "stream",
          "name": "stdout",
          "text": [
            "- 2023년 10월 19일\n",
            "- (1) 09:20 도서관에서 책 빌리기\n",
            "- (2) 11:10 컴퓨팅적 사고와 기초코딩 수업\n",
            "- (3) 14:00 교양수업\n",
            "- (4)\n"
          ]
        }
      ]
    },
    {
      "cell_type": "markdown",
      "source": [
        "2. 인사말 출력하기\n",
        " - 식사하셨습니까? 행님"
      ],
      "metadata": {
        "id": "XvDT3u9NwUnt"
      }
    },
    {
      "cell_type": "code",
      "source": [
        "print(\"식사하셨습니까? 행님\")"
      ],
      "metadata": {
        "colab": {
          "base_uri": "https://localhost:8080/"
        },
        "id": "BWK34TQbyMEM",
        "outputId": "30a5a533-6853-404c-d0c3-cd940693dfbb"
      },
      "execution_count": 1,
      "outputs": [
        {
          "output_type": "stream",
          "name": "stdout",
          "text": [
            "식사하셨습니까? 행님\n"
          ]
        }
      ]
    },
    {
      "cell_type": "markdown",
      "source": [
        "3. 학생 4명의 국어점수를 입력받아 아래와 같이 출력하시오.\n",
        " - 박보검: 90점\n",
        " - 션    : 92점\n",
        " - 도룡용: 80점\n",
        " - 차은우: 99점\n",
        " - 국어 점수 순위\n",
        " - 1등 차은우\n",
        " - 2등 션\n",
        " - 3등 박보검\n",
        " - 4등 도룡용"
      ],
      "metadata": {
        "id": "ZHugVuK5wywG"
      }
    },
    {
      "cell_type": "code",
      "source": [
        "n1 = input(\"학생 점수를 입력하시오.:\")\n",
        "n2 = input(\"학생 점수를 입력하시오.:\")\n",
        "n3 = input(\"학생 점수를 입력하시오.:\")\n",
        "n4 = input(\"학생 점수를 입력하시오.:\")\n",
        "\n",
        "print(\"국어 점수 순위\")\n",
        "print(\"1등\", n4)\n",
        "print(\"2등\", n2)\n",
        "print(\"3등\", n1)\n",
        "print(\"4등\", n3)"
      ],
      "metadata": {
        "colab": {
          "base_uri": "https://localhost:8080/"
        },
        "id": "fMWJTlry193d",
        "outputId": "3a8dfcd4-ac4e-4b25-9013-debc7347ed67"
      },
      "execution_count": 44,
      "outputs": [
        {
          "output_type": "stream",
          "name": "stdout",
          "text": [
            "학생 점수를 입력하시오.:박보검: 90점\n",
            "학생 점수를 입력하시오.:션 : 92점\n",
            "학생 점수를 입력하시오.:도룡용: 80점\n",
            "학생 점수를 입력하시오.:차은우: 99점\n",
            "국어 점수 순위\n",
            "1등 차은우: 99점\n",
            "2등 션 : 92점\n",
            "3등 박보검: 90점\n",
            "4등 도룡용: 80점\n"
          ]
        }
      ]
    },
    {
      "cell_type": "markdown",
      "source": [
        "4. 두개의 정수를 입력박아서 합계와 평균을 출력하시오."
      ],
      "metadata": {
        "id": "a7gxGne-xfRX"
      }
    },
    {
      "cell_type": "code",
      "source": [
        "n1 = int(input(\"n1의 값을 입력하시오.\"))\n",
        "n2 = int(input(\"n2의 값을 입력하시오.\"))\n",
        "total = n1 + n2\n",
        "average = total / 2\n",
        "print(\"합계\",total,\"평균\",average)\n"
      ],
      "metadata": {
        "id": "2EjsXbbI8nzV"
      },
      "execution_count": null,
      "outputs": []
    }
  ]
}